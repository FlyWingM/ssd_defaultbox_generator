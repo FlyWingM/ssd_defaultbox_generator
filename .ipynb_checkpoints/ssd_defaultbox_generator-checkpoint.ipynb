{
 "cells": [
  {
   "cell_type": "code",
   "execution_count": 13,
   "metadata": {},
   "outputs": [],
   "source": [
    "S_MIN = 0.2\n",
    "S_MAX = 0.9\n",
    "def get_scales(m):\n",
    "    scales = []    \n",
    "    for k in range(1, m+1):\n",
    "        scales.append(round((S_MIN + (S_MAX - S_MIN) / (m - 1) * (k - 1)), 2)) \n",
    "    return scales"
   ]
  },
  {
   "cell_type": "code",
   "execution_count": 16,
   "metadata": {},
   "outputs": [
    {
     "data": {
      "text/plain": [
       "[0.2, 0.34, 0.48, 0.62, 0.76, 0.9]"
      ]
     },
     "execution_count": 16,
     "metadata": {},
     "output_type": "execute_result"
    }
   ],
   "source": [
    "get_scales(6)"
   ]
  },
  {
   "cell_type": "code",
   "execution_count": 34,
   "metadata": {},
   "outputs": [],
   "source": [
    "import math\n",
    "\n",
    "\n",
    "RATIOS = [1, 2, 3, 0.5, 0.33]\n",
    "def get_width_height(scales):\n",
    "    for k, scale in enumerate(scales):\n",
    "        print(f'k: {k+1} scale: {scale}')\n",
    "        for ratio in RATIOS:\n",
    "            wka = min(round((scale *  math.sqrt(ratio)), 2), 1)\n",
    "            hka = min(round((scale /  math.sqrt(ratio)), 2), 1)\n",
    "            print(f'widht: {wka} height: {hka}')\n",
    "        if k < len(scales) - 1:\n",
    "            extra_sacle = round(math.sqrt(scale * scales[k+1]), 2)\n",
    "            print(f'width: {extra_sacle} height: {extra_sacle}')\n",
    "        print('')"
   ]
  },
  {
   "cell_type": "code",
   "execution_count": 35,
   "metadata": {},
   "outputs": [
    {
     "name": "stdout",
     "output_type": "stream",
     "text": [
      "k: 1 scale: 0.2\n",
      "widht: 0.2 height: 0.2\n",
      "widht: 0.28 height: 0.14\n",
      "widht: 0.35 height: 0.12\n",
      "widht: 0.14 height: 0.28\n",
      "widht: 0.11 height: 0.35\n",
      "width: 0.26 height: 0.26\n",
      "\n",
      "k: 2 scale: 0.34\n",
      "widht: 0.34 height: 0.34\n",
      "widht: 0.48 height: 0.24\n",
      "widht: 0.59 height: 0.2\n",
      "widht: 0.24 height: 0.48\n",
      "widht: 0.2 height: 0.59\n",
      "width: 0.4 height: 0.4\n",
      "\n",
      "k: 3 scale: 0.48\n",
      "widht: 0.48 height: 0.48\n",
      "widht: 0.68 height: 0.34\n",
      "widht: 0.83 height: 0.28\n",
      "widht: 0.34 height: 0.68\n",
      "widht: 0.28 height: 0.84\n",
      "width: 0.55 height: 0.55\n",
      "\n",
      "k: 4 scale: 0.62\n",
      "widht: 0.62 height: 0.62\n",
      "widht: 0.88 height: 0.44\n",
      "widht: 1 height: 0.36\n",
      "widht: 0.44 height: 0.88\n",
      "widht: 0.36 height: 1\n",
      "width: 0.69 height: 0.69\n",
      "\n",
      "k: 5 scale: 0.76\n",
      "widht: 0.76 height: 0.76\n",
      "widht: 1 height: 0.54\n",
      "widht: 1 height: 0.44\n",
      "widht: 0.54 height: 1\n",
      "widht: 0.44 height: 1\n",
      "width: 0.83 height: 0.83\n",
      "\n",
      "k: 6 scale: 0.9\n",
      "widht: 0.9 height: 0.9\n",
      "widht: 1 height: 0.64\n",
      "widht: 1 height: 0.52\n",
      "widht: 0.64 height: 1\n",
      "widht: 0.52 height: 1\n",
      "\n"
     ]
    }
   ],
   "source": [
    "scales = get_scales(6)\n",
    "get_width_height(scales)"
   ]
  },
  {
   "cell_type": "code",
   "execution_count": 47,
   "metadata": {},
   "outputs": [],
   "source": [
    "def get_center(Fk):\n",
    "    centers = []\n",
    "    for i in range(Fk):\n",
    "        for j in range(Fk):\n",
    "            i_val = round(((i + 0.5)/Fk), 2)\n",
    "            j_val = round(((j + 0.5)/Fk), 2)\n",
    "            centers.append((i_val, j_val))\n",
    "    return centers"
   ]
  },
  {
   "cell_type": "code",
   "execution_count": 51,
   "metadata": {},
   "outputs": [
    {
     "name": "stdout",
     "output_type": "stream",
     "text": [
      "25\n",
      "[(0.1, 0.1), (0.1, 0.3), (0.1, 0.5), (0.1, 0.7), (0.1, 0.9), (0.3, 0.1), (0.3, 0.3), (0.3, 0.5), (0.3, 0.7), (0.3, 0.9), (0.5, 0.1), (0.5, 0.3), (0.5, 0.5), (0.5, 0.7), (0.5, 0.9), (0.7, 0.1), (0.7, 0.3), (0.7, 0.5), (0.7, 0.7), (0.7, 0.9), (0.9, 0.1), (0.9, 0.3), (0.9, 0.5), (0.9, 0.7), (0.9, 0.9)]\n"
     ]
    }
   ],
   "source": [
    "centers = get_center(5)\n",
    "print(len(centers))\n",
    "print(centers)"
   ]
  },
  {
   "cell_type": "code",
   "execution_count": 52,
   "metadata": {},
   "outputs": [
    {
     "name": "stdout",
     "output_type": "stream",
     "text": [
      "hi\n"
     ]
    }
   ],
   "source": [
    "import cv2\n",
    "import matplotlib.pyplot as plt\n",
    "import numpy as np\n",
    "import sys\n",
    "%matplotlib inline\n",
    "\n",
    "im = cv2.imread('car.jpg',0)\n",
    "h,w = im.shape[:2]\n",
    "print(im.shape)\n",
    "plt.imshow(im,cmap='gray')\n",
    "plt.show()"
   ]
  },
  {
   "cell_type": "code",
   "execution_count": null,
   "metadata": {},
   "outputs": [],
   "source": []
  }
 ],
 "metadata": {
  "kernelspec": {
   "display_name": "Python 3",
   "language": "python",
   "name": "python3"
  },
  "language_info": {
   "codemirror_mode": {
    "name": "ipython",
    "version": 3
   },
   "file_extension": ".py",
   "mimetype": "text/x-python",
   "name": "python",
   "nbconvert_exporter": "python",
   "pygments_lexer": "ipython3",
   "version": "3.7.3"
  }
 },
 "nbformat": 4,
 "nbformat_minor": 2
}
